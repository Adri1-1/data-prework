{
 "cells": [
  {
   "cell_type": "markdown",
   "metadata": {},
   "source": [
    "<img src=\"https://bit.ly/2VnXWr2\" width=\"100\" align=\"left\">"
   ]
  },
  {
   "cell_type": "markdown",
   "metadata": {},
   "source": [
    "# Bus\n",
    "\n",
    "This bus has a passenger entry and exit control system to monitor the number of occupants it carries and thus detect when there are too many.\n",
    "\n",
    "At each stop, the entry and exit of passengers is represented by a tuple consisting of two integer numbers.\n",
    "```\n",
    "bus_stop = (in, out)\n",
    "```\n",
    "The succession of stops is represented by a list of these tuples.\n",
    "```\n",
    "stops = [(in1, out1), (in2, out2), (in3, out3), (in4, out4)]\n",
    "```\n",
    "\n",
    "## Tools\n",
    "You don't necessarily need to use all the tools. Maybe you opt to use some of them or completely different ones, they are given to help you shape the exercise. Programming exercises can be solved in many different ways.\n",
    "* Data structures: **lists, tuples**\n",
    "* Loop: **while/for loops**\n",
    "* Functions: **min, max, len**\n",
    "\n",
    "## Tasks"
   ]
  },
  {
   "cell_type": "code",
   "execution_count": null,
   "metadata": {},
   "outputs": [],
   "source": [
    "# Variables\n",
    "stops = [(10, 0), (4, 1), (3, 5), (3, 4), (5, 1), (1, 5), (5, 8), (4, 6), (2, 3)]"
   ]
  },
  {
   "cell_type": "markdown",
   "metadata": {},
   "source": [
    "#### 1. Calculate the number of stops."
   ]
  },
  {
   "cell_type": "code",
   "execution_count": 53,
   "metadata": {},
   "outputs": [
    {
     "name": "stdout",
     "output_type": "stream",
     "text": [
      "The number of stops is 1\n",
      "The number of stops is 2\n",
      "The number of stops is 3\n",
      "The number of stops is 4\n",
      "The number of stops is 5\n",
      "The number of stops is 6\n",
      "The number of stops is 7\n",
      "The number of stops is 8\n",
      "The number of stops is 9\n"
     ]
    }
   ],
   "source": [
    "total_stop = 0\n",
    "\n",
    "for stop in stops:\n",
    "    total_stop += 1\n",
    "    print('The number of stops is',total_stop)\n",
    "    "
   ]
  },
  {
   "cell_type": "markdown",
   "metadata": {},
   "source": [
    "#### 2. Assign to a variable a list whose elements are the number of passengers at each stop (in-out).\n",
    "Each item depends on the previous item in the list + in - out."
   ]
  },
  {
   "cell_type": "code",
   "execution_count": 79,
   "metadata": {},
   "outputs": [
    {
     "name": "stdout",
     "output_type": "stream",
     "text": [
      "For the [10, 0] stop, 10 passengers entered and 0 passengers left the bus\n",
      "1\n",
      "For the [4, 1] stop, 4 passengers entered and 1 passengers left the bus\n",
      "2\n",
      "For the [3, 5] stop, 3 passengers entered and 5 passengers left the bus\n",
      "3\n",
      "For the [3, 4] stop, 3 passengers entered and 4 passengers left the bus\n",
      "4\n",
      "For the [5, 1] stop, 5 passengers entered and 1 passengers left the bus\n",
      "5\n",
      "For the [1, 5] stop, 1 passengers entered and 5 passengers left the bus\n",
      "6\n",
      "For the [5, 8] stop, 5 passengers entered and 8 passengers left the bus\n",
      "7\n",
      "For the [4, 6] stop, 4 passengers entered and 6 passengers left the bus\n",
      "8\n",
      "For the [2, 3] stop, 2 passengers entered and 3 passengers left the bus\n",
      "9\n"
     ]
    }
   ],
   "source": [
    "total_stop = 0\n",
    "i = 0\n",
    "for stop in stops:\n",
    "            l = list(stop)\n",
    "            in_i = l[0]\n",
    "            out_i = l[1]\n",
    "            print(\"For the {0} stop, {1} passengers entered and {2} passengers left the bus\".format(l, in_i, out_i) )\n",
    "            total_stop += 1\n",
    "            print(total_stop)"
   ]
  },
  {
   "cell_type": "markdown",
   "metadata": {},
   "source": [
    "#### 3. Find the maximum occupation of the bus."
   ]
  },
  {
   "cell_type": "code",
   "execution_count": 74,
   "metadata": {},
   "outputs": [
    {
     "name": "stdout",
     "output_type": "stream",
     "text": [
      "10\n",
      "13\n",
      "11\n",
      "10\n",
      "14\n",
      "10\n",
      "7\n",
      "5\n",
      "4\n"
     ]
    }
   ],
   "source": [
    "bus_capacity = 0\n",
    "for stop in stops:\n",
    "    l = list(stop)\n",
    "    in_i = l[0]\n",
    "    out_i = l[1]\n",
    "    bus_capacity += l[0]-l[1]\n",
    "    print(bus_capacity)\n",
    "    \n",
    "\n",
    "\n",
    "    "
   ]
  },
  {
   "cell_type": "markdown",
   "metadata": {},
   "source": [
    "#### 4. Calculate the average occupation. And the standard deviation."
   ]
  },
  {
   "cell_type": "code",
   "execution_count": 82,
   "metadata": {},
   "outputs": [
    {
     "name": "stdout",
     "output_type": "stream",
     "text": [
      "0\n",
      "4.0\n",
      "4.6\n",
      "5.35\n",
      "10.35\n",
      "10.549999999999999\n",
      "11.174999999999999\n",
      "11.841666666666665\n",
      "12.508333333333331\n"
     ]
    }
   ],
   "source": [
    "average_capacity = 0\n",
    "for stop in stops:\n",
    "    l = list(stop)\n",
    "    in_i = l[0]\n",
    "    out_i = l[1]\n",
    "    if out_i != 0:\n",
    "        average_capacity += in_i / out_i\n",
    "    print(average_capacity)\n",
    "\n",
    "\n"
   ]
  },
  {
   "cell_type": "code",
   "execution_count": null,
   "metadata": {},
   "outputs": [],
   "source": []
  }
 ],
 "metadata": {
  "kernelspec": {
   "display_name": "Python 3",
   "language": "python",
   "name": "python3"
  },
  "language_info": {
   "codemirror_mode": {
    "name": "ipython",
    "version": 3
   },
   "file_extension": ".py",
   "mimetype": "text/x-python",
   "name": "python",
   "nbconvert_exporter": "python",
   "pygments_lexer": "ipython3",
   "version": "3.8.5"
  }
 },
 "nbformat": 4,
 "nbformat_minor": 2
}
